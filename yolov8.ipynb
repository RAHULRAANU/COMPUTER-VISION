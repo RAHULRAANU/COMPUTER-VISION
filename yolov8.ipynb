{
 "cells": [
  {
   "cell_type": "code",
   "execution_count": 2,
   "id": "03b3cb55",
   "metadata": {},
   "outputs": [
    {
     "name": "stdout",
     "output_type": "stream",
     "text": [
      "/bin/bash: line 1: cwd: command not found\r\n"
     ]
    }
   ],
   "source": [
    "!cwd"
   ]
  },
  {
   "cell_type": "code",
   "execution_count": 3,
   "id": "57f4ec2b",
   "metadata": {},
   "outputs": [
    {
     "name": "stdout",
     "output_type": "stream",
     "text": [
      "Defaulting to user installation because normal site-packages is not writeable\n",
      "Collecting ultralytics\n",
      "  Using cached ultralytics-8.0.47-py3-none-any.whl (301 kB)\n",
      "Requirement already satisfied: matplotlib>=3.2.2 in /usr/local/lib/python3.10/dist-packages (from ultralytics) (3.5.3)\n",
      "Requirement already satisfied: PyYAML>=5.3.1 in /usr/lib/python3/dist-packages (from ultralytics) (5.4.1)\n",
      "Requirement already satisfied: thop>=0.1.1 in ./.local/lib/python3.10/site-packages (from ultralytics) (0.1.1.post2209072238)\n",
      "Requirement already satisfied: certifi>=2022.12.7 in ./.local/lib/python3.10/site-packages (from ultralytics) (2022.12.7)\n",
      "Requirement already satisfied: sentry-sdk in ./.local/lib/python3.10/site-packages (from ultralytics) (1.15.0)\n",
      "Requirement already satisfied: torch>=1.7.0 in ./.local/lib/python3.10/site-packages (from ultralytics) (1.13.1)\n",
      "Requirement already satisfied: requests>=2.23.0 in /usr/local/lib/python3.10/dist-packages (from ultralytics) (2.28.2)\n",
      "Requirement already satisfied: pandas>=1.1.4 in /usr/local/lib/python3.10/dist-packages (from ultralytics) (1.4.3)\n",
      "Requirement already satisfied: psutil in ./.local/lib/python3.10/site-packages (from ultralytics) (5.9.1)\n",
      "Requirement already satisfied: Pillow>=7.1.2 in /usr/lib/python3/dist-packages (from ultralytics) (9.0.1)\n",
      "Requirement already satisfied: opencv-python>=4.6.0 in /usr/local/lib/python3.10/dist-packages (from ultralytics) (4.6.0.66)\n",
      "Requirement already satisfied: tqdm>=4.64.0 in /usr/local/lib/python3.10/dist-packages (from ultralytics) (4.64.0)\n",
      "Requirement already satisfied: seaborn>=0.11.0 in ./.local/lib/python3.10/site-packages (from ultralytics) (0.12.1)\n",
      "Requirement already satisfied: tensorboard>=2.4.1 in ./.local/lib/python3.10/site-packages (from ultralytics) (2.11.2)\n",
      "Requirement already satisfied: numpy>=1.18.5 in ./.local/lib/python3.10/site-packages (from ultralytics) (1.23.1)\n",
      "Requirement already satisfied: scipy>=1.4.1 in ./.local/lib/python3.10/site-packages (from ultralytics) (1.8.1)\n",
      "Requirement already satisfied: torchvision>=0.8.1 in ./.local/lib/python3.10/site-packages (from ultralytics) (0.14.1)\n",
      "Requirement already satisfied: packaging>=20.0 in ./.local/lib/python3.10/site-packages (from matplotlib>=3.2.2->ultralytics) (21.3)\n",
      "Requirement already satisfied: cycler>=0.10 in /usr/local/lib/python3.10/dist-packages (from matplotlib>=3.2.2->ultralytics) (0.11.0)\n",
      "Requirement already satisfied: pyparsing>=2.2.1 in /usr/lib/python3/dist-packages (from matplotlib>=3.2.2->ultralytics) (2.4.7)\n",
      "Requirement already satisfied: python-dateutil>=2.7 in ./.local/lib/python3.10/site-packages (from matplotlib>=3.2.2->ultralytics) (2.8.2)\n",
      "Requirement already satisfied: kiwisolver>=1.0.1 in /usr/local/lib/python3.10/dist-packages (from matplotlib>=3.2.2->ultralytics) (1.4.4)\n",
      "Requirement already satisfied: fonttools>=4.22.0 in /usr/local/lib/python3.10/dist-packages (from matplotlib>=3.2.2->ultralytics) (4.36.0)\n",
      "Requirement already satisfied: pytz>=2020.1 in /usr/lib/python3/dist-packages (from pandas>=1.1.4->ultralytics) (2022.1)\n",
      "Requirement already satisfied: idna<4,>=2.5 in /usr/lib/python3/dist-packages (from requests>=2.23.0->ultralytics) (3.3)\n",
      "Requirement already satisfied: charset-normalizer<4,>=2 in /usr/local/lib/python3.10/dist-packages (from requests>=2.23.0->ultralytics) (3.0.1)\n",
      "Requirement already satisfied: urllib3<1.27,>=1.21.1 in ./.local/lib/python3.10/site-packages (from requests>=2.23.0->ultralytics) (1.26.14)\n",
      "Requirement already satisfied: google-auth<3,>=1.6.3 in ./.local/lib/python3.10/site-packages (from tensorboard>=2.4.1->ultralytics) (2.9.1)\n",
      "Requirement already satisfied: google-auth-oauthlib<0.5,>=0.4.1 in ./.local/lib/python3.10/site-packages (from tensorboard>=2.4.1->ultralytics) (0.4.6)\n",
      "Requirement already satisfied: werkzeug>=1.0.1 in ./.local/lib/python3.10/site-packages (from tensorboard>=2.4.1->ultralytics) (2.2.1)\n",
      "Requirement already satisfied: setuptools>=41.0.0 in ./.local/lib/python3.10/site-packages (from tensorboard>=2.4.1->ultralytics) (65.6.3)\n",
      "Requirement already satisfied: tensorboard-data-server<0.7.0,>=0.6.0 in ./.local/lib/python3.10/site-packages (from tensorboard>=2.4.1->ultralytics) (0.6.1)\n",
      "Requirement already satisfied: grpcio>=1.24.3 in ./.local/lib/python3.10/site-packages (from tensorboard>=2.4.1->ultralytics) (1.47.0)\n",
      "Requirement already satisfied: tensorboard-plugin-wit>=1.6.0 in ./.local/lib/python3.10/site-packages (from tensorboard>=2.4.1->ultralytics) (1.8.1)\n",
      "Requirement already satisfied: wheel>=0.26 in ./.local/lib/python3.10/site-packages (from tensorboard>=2.4.1->ultralytics) (0.38.4)\n",
      "Requirement already satisfied: markdown>=2.6.8 in ./.local/lib/python3.10/site-packages (from tensorboard>=2.4.1->ultralytics) (3.3.7)\n",
      "Requirement already satisfied: absl-py>=0.4 in ./.local/lib/python3.10/site-packages (from tensorboard>=2.4.1->ultralytics) (1.2.0)\n",
      "Requirement already satisfied: protobuf<4,>=3.9.2 in /usr/lib/python3/dist-packages (from tensorboard>=2.4.1->ultralytics) (3.12.4)\n",
      "Requirement already satisfied: typing-extensions in ./.local/lib/python3.10/site-packages (from torch>=1.7.0->ultralytics) (4.3.0)\n",
      "Requirement already satisfied: nvidia-cudnn-cu11==8.5.0.96 in ./.local/lib/python3.10/site-packages (from torch>=1.7.0->ultralytics) (8.5.0.96)\n",
      "Requirement already satisfied: nvidia-cuda-runtime-cu11==11.7.99 in ./.local/lib/python3.10/site-packages (from torch>=1.7.0->ultralytics) (11.7.99)\n",
      "Requirement already satisfied: nvidia-cublas-cu11==11.10.3.66 in ./.local/lib/python3.10/site-packages (from torch>=1.7.0->ultralytics) (11.10.3.66)\n",
      "Requirement already satisfied: nvidia-cuda-nvrtc-cu11==11.7.99 in ./.local/lib/python3.10/site-packages (from torch>=1.7.0->ultralytics) (11.7.99)\n",
      "Requirement already satisfied: cachetools<6.0,>=2.0.0 in ./.local/lib/python3.10/site-packages (from google-auth<3,>=1.6.3->tensorboard>=2.4.1->ultralytics) (5.2.0)\n",
      "Requirement already satisfied: rsa<5,>=3.1.4 in ./.local/lib/python3.10/site-packages (from google-auth<3,>=1.6.3->tensorboard>=2.4.1->ultralytics) (4.9)\n",
      "Requirement already satisfied: six>=1.9.0 in /usr/lib/python3/dist-packages (from google-auth<3,>=1.6.3->tensorboard>=2.4.1->ultralytics) (1.16.0)\n",
      "Requirement already satisfied: pyasn1-modules>=0.2.1 in ./.local/lib/python3.10/site-packages (from google-auth<3,>=1.6.3->tensorboard>=2.4.1->ultralytics) (0.2.8)\n",
      "Requirement already satisfied: requests-oauthlib>=0.7.0 in ./.local/lib/python3.10/site-packages (from google-auth-oauthlib<0.5,>=0.4.1->tensorboard>=2.4.1->ultralytics) (1.3.1)\n",
      "Requirement already satisfied: MarkupSafe>=2.1.1 in ./.local/lib/python3.10/site-packages (from werkzeug>=1.0.1->tensorboard>=2.4.1->ultralytics) (2.1.1)\n",
      "Requirement already satisfied: pyasn1<0.5.0,>=0.4.6 in ./.local/lib/python3.10/site-packages (from pyasn1-modules>=0.2.1->google-auth<3,>=1.6.3->tensorboard>=2.4.1->ultralytics) (0.4.8)\n",
      "Requirement already satisfied: oauthlib>=3.0.0 in /usr/lib/python3/dist-packages (from requests-oauthlib>=0.7.0->google-auth-oauthlib<0.5,>=0.4.1->tensorboard>=2.4.1->ultralytics) (3.2.0)\n",
      "Installing collected packages: ultralytics\n",
      "Successfully installed ultralytics-8.0.47\n"
     ]
    }
   ],
   "source": [
    "! pip install ultralytics"
   ]
  },
  {
   "cell_type": "code",
   "execution_count": 9,
   "id": "da6fd87e",
   "metadata": {},
   "outputs": [
    {
     "name": "stdout",
     "output_type": "stream",
     "text": [
      "Warning: Ignoring XDG_SESSION_TYPE=wayland on Gnome. Use QT_QPA_PLATFORM=wayland to run on Wayland anyway.\n",
      "Ultralytics YOLOv8.0.47 🚀 Python-3.10.6 torch-1.13.1+cu117 CPU\n",
      "YOLOv8n summary (fused): 168 layers, 3151904 parameters, 0 gradients, 8.7 GFLOPs\n",
      "\n",
      "image 1/1 /home/ubuntu/Pictures/Wallpapers/rahul3.jpeg: 640x640 1 person, 223.9ms\n",
      "Speed: 17.8ms preprocess, 223.9ms inference, 16.2ms postprocess per image at shape (1, 3, 640, 640)\n",
      "Results saved to \u001b[1m/home/ubuntu/ultralytics/runs/detect/predict3\u001b[0m\n",
      "\u001b[0m"
     ]
    }
   ],
   "source": [
    "! yolo task = detect mode = predict model= yolov8n.pt source = '/home/ubuntu/Pictures/Wallpapers/rahul3.jpeg' show=True save = True"
   ]
  },
  {
   "cell_type": "code",
   "execution_count": 8,
   "id": "4209b1e4",
   "metadata": {},
   "outputs": [
    {
     "name": "stdout",
     "output_type": "stream",
     "text": [
      "Ultralytics YOLOv8.0.47 🚀 Python-3.10.6 torch-1.13.1+cu117 CPU\n",
      "YOLOv8n summary (fused): 168 layers, 3151904 parameters, 0 gradients, 8.7 GFLOPs\n",
      "\n",
      "image 1/1 /home/ubuntu/Pictures/Wallpapers/Wolf.jpeg: 384x640 1 elephant, 93.3ms\n",
      "Speed: 0.8ms preprocess, 93.3ms inference, 1.1ms postprocess per image at shape (1, 3, 640, 640)\n",
      "Results saved to \u001b[1m/home/ubuntu/ultralytics/runs/detect/predict2\u001b[0m\n",
      "\u001b[0m"
     ]
    }
   ],
   "source": [
    "! yolo task = detect mode = predict model= yolov8n.pt source = '/home/ubuntu/Pictures/Wallpapers/Wolf.jpeg' save=True"
   ]
  },
  {
   "cell_type": "code",
   "execution_count": null,
   "id": "e49d4864",
   "metadata": {},
   "outputs": [],
   "source": []
  }
 ],
 "metadata": {
  "kernelspec": {
   "display_name": "Python 3 (ipykernel)",
   "language": "python",
   "name": "python3"
  },
  "language_info": {
   "codemirror_mode": {
    "name": "ipython",
    "version": 3
   },
   "file_extension": ".py",
   "mimetype": "text/x-python",
   "name": "python",
   "nbconvert_exporter": "python",
   "pygments_lexer": "ipython3",
   "version": "3.10.6"
  }
 },
 "nbformat": 4,
 "nbformat_minor": 5
}
