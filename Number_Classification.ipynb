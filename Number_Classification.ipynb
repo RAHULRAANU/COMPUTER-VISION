{
 "cells": [
  {
   "cell_type": "code",
   "execution_count": 1,
   "metadata": {
    "id": "nrmMiM8C8ZQ_"
   },
   "outputs": [
    {
     "name": "stdout",
     "output_type": "stream",
     "text": [
      "Cloning into 'Transfer-Learning-ResNet-Keras'...\n",
      "remote: Enumerating objects: 6, done.\u001b[K\n",
      "remote: Counting objects: 100% (6/6), done.\u001b[K\n",
      "remote: Compressing objects: 100% (5/5), done.\u001b[K\n",
      "remote: Total 6 (delta 0), reused 0 (delta 0), pack-reused 0\u001b[K\n",
      "Receiving objects: 100% (6/6), 476.00 KiB | 2.97 MiB/s, done.\n"
     ]
    }
   ],
   "source": [
    "! git clone https://github.com/nachi-hebbar/Transfer-Learning-ResNet-Keras.git"
   ]
  },
  {
   "cell_type": "code",
   "execution_count": 2,
   "metadata": {
    "id": "Ka5jubuL9rxK"
   },
   "outputs": [
    {
     "name": "stderr",
     "output_type": "stream",
     "text": [
      "2023-02-17 09:42:04.029579: I tensorflow/core/platform/cpu_feature_guard.cc:193] This TensorFlow binary is optimized with oneAPI Deep Neural Network Library (oneDNN) to use the following CPU instructions in performance-critical operations:  AVX2 FMA\n",
      "To enable them in other operations, rebuild TensorFlow with the appropriate compiler flags.\n",
      "2023-02-17 09:42:04.246432: W tensorflow/compiler/xla/stream_executor/platform/default/dso_loader.cc:64] Could not load dynamic library 'libcudart.so.11.0'; dlerror: libcudart.so.11.0: cannot open shared object file: No such file or directory\n",
      "2023-02-17 09:42:04.246473: I tensorflow/compiler/xla/stream_executor/cuda/cudart_stub.cc:29] Ignore above cudart dlerror if you do not have a GPU set up on your machine.\n",
      "2023-02-17 09:42:05.191509: W tensorflow/compiler/xla/stream_executor/platform/default/dso_loader.cc:64] Could not load dynamic library 'libnvinfer.so.7'; dlerror: libnvinfer.so.7: cannot open shared object file: No such file or directory\n",
      "2023-02-17 09:42:05.191953: W tensorflow/compiler/xla/stream_executor/platform/default/dso_loader.cc:64] Could not load dynamic library 'libnvinfer_plugin.so.7'; dlerror: libnvinfer_plugin.so.7: cannot open shared object file: No such file or directory\n",
      "2023-02-17 09:42:05.191993: W tensorflow/compiler/tf2tensorrt/utils/py_utils.cc:38] TF-TRT Warning: Cannot dlopen some TensorRT libraries. If you would like to use Nvidia GPU with TensorRT, please make sure the missing libraries mentioned above are installed properly.\n"
     ]
    }
   ],
   "source": [
    "import matplotlib.pyplot as plt\n",
    "import numpy as np\n",
    "import os\n",
    "import PIL\n",
    "import tensorflow as tf\n",
    "from tensorflow import keras\n",
    "from tensorflow.keras import layers\n",
    "from tensorflow.python.keras.layers import Dense, Flatten\n",
    "from tensorflow.keras.models import Sequential\n",
    "from tensorflow.keras.optimizers import Adam"
   ]
  },
  {
   "cell_type": "code",
   "execution_count": 3,
   "metadata": {
    "id": "GABgNwjZ9sdL"
   },
   "outputs": [],
   "source": [
    "my_dir = r'/home/ubuntu/Downloads/cv/number_plate data/'\n",
    "\n",
    "train_dir = os.path.join(my_dir, 'train')\n",
    "\n",
    "val_dir =  os.path.join(my_dir, 'val')"
   ]
  },
  {
   "cell_type": "code",
   "execution_count": 4,
   "metadata": {
    "id": "HJ5D52Lm9sfE"
   },
   "outputs": [
    {
     "name": "stdout",
     "output_type": "stream",
     "text": [
      "Found 359627 files belonging to 36 classes.\n",
      "Using 287702 files for training.\n"
     ]
    },
    {
     "name": "stderr",
     "output_type": "stream",
     "text": [
      "2023-02-17 09:42:21.225174: W tensorflow/compiler/xla/stream_executor/platform/default/dso_loader.cc:64] Could not load dynamic library 'libcuda.so.1'; dlerror: libcuda.so.1: cannot open shared object file: No such file or directory\n",
      "2023-02-17 09:42:21.225733: W tensorflow/compiler/xla/stream_executor/cuda/cuda_driver.cc:265] failed call to cuInit: UNKNOWN ERROR (303)\n",
      "2023-02-17 09:42:21.225763: I tensorflow/compiler/xla/stream_executor/cuda/cuda_diagnostics.cc:156] kernel driver does not appear to be running on this host (ubuntu-OptiPlex-3040): /proc/driver/nvidia/version does not exist\n",
      "2023-02-17 09:42:21.229876: I tensorflow/core/platform/cpu_feature_guard.cc:193] This TensorFlow binary is optimized with oneAPI Deep Neural Network Library (oneDNN) to use the following CPU instructions in performance-critical operations:  AVX2 FMA\n",
      "To enable them in other operations, rebuild TensorFlow with the appropriate compiler flags.\n"
     ]
    }
   ],
   "source": [
    "img_height,img_width=224,224\n",
    "batch_size=32\n",
    "train_ds = tf.keras.preprocessing.image_dataset_from_directory(\n",
    "  train_dir,\n",
    "  validation_split=0.2,\n",
    "  subset=\"training\",\n",
    "  seed=123,\n",
    "  image_size=(img_height, img_width),\n",
    "  batch_size=batch_size)"
   ]
  },
  {
   "cell_type": "code",
   "execution_count": 5,
   "metadata": {
    "id": "l4-PstUE9slI"
   },
   "outputs": [
    {
     "name": "stdout",
     "output_type": "stream",
     "text": [
      "Found 87988 files belonging to 36 classes.\n",
      "Using 17597 files for validation.\n"
     ]
    }
   ],
   "source": [
    "val_ds = tf.keras.preprocessing.image_dataset_from_directory(\n",
    "  val_dir,\n",
    "  validation_split=0.2,\n",
    "  subset=\"validation\",\n",
    "  seed=123,\n",
    "  image_size=(img_height, img_width),\n",
    "  batch_size=batch_size)"
   ]
  },
  {
   "cell_type": "code",
   "execution_count": 6,
   "metadata": {
    "id": "ofpPWTqG-KyJ"
   },
   "outputs": [
    {
     "name": "stdout",
     "output_type": "stream",
     "text": [
      "['class_0', 'class_1', 'class_2', 'class_3', 'class_4', 'class_5', 'class_6', 'class_7', 'class_8', 'class_9', 'class_A', 'class_B', 'class_C', 'class_D', 'class_E', 'class_F', 'class_G', 'class_H', 'class_I', 'class_J', 'class_K', 'class_L', 'class_M', 'class_N', 'class_O', 'class_P', 'class_Q', 'class_R', 'class_S', 'class_T', 'class_U', 'class_V', 'class_W', 'class_X', 'class_Y', 'class_Z']\n"
     ]
    }
   ],
   "source": [
    "class_names = train_ds.class_names\n",
    "print(class_names)"
   ]
  },
  {
   "cell_type": "code",
   "execution_count": 7,
   "metadata": {
    "id": "vM3lFGuW9svW"
   },
   "outputs": [],
   "source": [
    "resnet_model = Sequential()\n",
    "\n",
    "pretrained_model= tf.keras.applications.ResNet50(include_top=False,\n",
    "                   input_shape=(224,224,3),\n",
    "                   pooling='avg',classes=36,\n",
    "                   weights='imagenet')\n",
    "for layer in pretrained_model.layers:\n",
    "        layer.trainable=False\n",
    "\n",
    "resnet_model.add(pretrained_model)\n",
    "resnet_model.add(Flatten())\n",
    "resnet_model.add(Dense(512, activation='relu'))\n",
    "resnet_model.add(Dense(36, activation='softmax'))"
   ]
  },
  {
   "cell_type": "code",
   "execution_count": 8,
   "metadata": {
    "id": "97D6ofnN9syG"
   },
   "outputs": [
    {
     "name": "stdout",
     "output_type": "stream",
     "text": [
      "Model: \"sequential\"\n",
      "_________________________________________________________________\n",
      " Layer (type)                Output Shape              Param #   \n",
      "=================================================================\n",
      " resnet50 (Functional)       (None, 2048)              23587712  \n",
      "                                                                 \n",
      " module_wrapper (ModuleWrapp  (None, 2048)             0         \n",
      " er)                                                             \n",
      "                                                                 \n",
      " module_wrapper_1 (ModuleWra  (None, 512)              1049088   \n",
      " pper)                                                           \n",
      "                                                                 \n",
      " module_wrapper_2 (ModuleWra  (None, 36)               18468     \n",
      " pper)                                                           \n",
      "                                                                 \n",
      "=================================================================\n",
      "Total params: 24,655,268\n",
      "Trainable params: 1,067,556\n",
      "Non-trainable params: 23,587,712\n",
      "_________________________________________________________________\n"
     ]
    }
   ],
   "source": [
    "resnet_model.summary()"
   ]
  },
  {
   "cell_type": "code",
   "execution_count": 9,
   "metadata": {
    "id": "MVir7Q7-9s2T"
   },
   "outputs": [
    {
     "name": "stderr",
     "output_type": "stream",
     "text": [
      "/home/ubuntu/.local/lib/python3.10/site-packages/keras/optimizers/optimizer_v2/adam.py:110: UserWarning: The `lr` argument is deprecated, use `learning_rate` instead.\n",
      "  super(Adam, self).__init__(name, **kwargs)\n"
     ]
    }
   ],
   "source": [
    "resnet_model.compile(optimizer=Adam(lr=0.001),loss='sparse_categorical_crossentropy',metrics=['accuracy'])"
   ]
  },
  {
   "cell_type": "code",
   "execution_count": null,
   "metadata": {
    "id": "tVyDnaEi9s4x"
   },
   "outputs": [
    {
     "name": "stdout",
     "output_type": "stream",
     "text": [
      "Epoch 1/10\n"
     ]
    },
    {
     "name": "stderr",
     "output_type": "stream",
     "text": [
      "2023-02-17 09:42:31.157518: W tensorflow/tsl/framework/cpu_allocator_impl.cc:82] Allocation of 19267584 exceeds 10% of free system memory.\n",
      "2023-02-17 09:42:31.175495: W tensorflow/tsl/framework/cpu_allocator_impl.cc:82] Allocation of 20313600 exceeds 10% of free system memory.\n",
      "2023-02-17 09:42:31.191518: W tensorflow/tsl/framework/cpu_allocator_impl.cc:82] Allocation of 102760448 exceeds 10% of free system memory.\n",
      "2023-02-17 09:42:31.201782: W tensorflow/tsl/framework/cpu_allocator_impl.cc:82] Allocation of 19267584 exceeds 10% of free system memory.\n",
      "2023-02-17 09:42:31.411547: W tensorflow/tsl/framework/cpu_allocator_impl.cc:82] Allocation of 102760448 exceeds 10% of free system memory.\n"
     ]
    },
    {
     "name": "stdout",
     "output_type": "stream",
     "text": [
      "5847/8991 [==================>...........] - ETA: 3:51:33 - loss: 0.2155 - accuracy: 0.9337"
     ]
    }
   ],
   "source": [
    "epochs = 1\n",
    "history = resnet_model.fit(\n",
    "  train_ds,\n",
    "  validation_data=val_ds,\n",
    "  epochs=epochs\n",
    ")"
   ]
  },
  {
   "cell_type": "code",
   "execution_count": null,
   "metadata": {
    "id": "411l2sIx9s82"
   },
   "outputs": [],
   "source": [
    "fig1 = plt.gcf()\n",
    "plt.plot(history.history['accuracy'])\n",
    "plt.plot(history.history['val_accuracy'])\n",
    "plt.axis(ymin=0.4,ymax=1)\n",
    "plt.grid()\n",
    "plt.title('Model Accuracy')\n",
    "plt.ylabel('Accuracy')\n",
    "plt.xlabel('Epochs')\n",
    "plt.legend(['train', 'validation'])\n",
    "plt.show()"
   ]
  },
  {
   "cell_type": "code",
   "execution_count": null,
   "metadata": {
    "id": "CG6yFl7-9s_p"
   },
   "outputs": [],
   "source": [
    "plt.plot(history.history['loss'])\n",
    "plt.plot(history.history['val_loss'])\n",
    "plt.grid()\n",
    "plt.title('Model Loss')\n",
    "plt.ylabel('Loss')\n",
    "plt.xlabel('Epochs')\n",
    "plt.legend(['train', 'validation'])\n",
    "plt.show()"
   ]
  },
  {
   "cell_type": "code",
   "execution_count": null,
   "metadata": {
    "id": "b2mngd-T9tDj"
   },
   "outputs": [],
   "source": [
    "import cv2\n",
    "image=cv2.imread('/content/drive/MyDrive/Number_Plate_Classification/data/val/class_6/class_6_1.jpg') # Class-6\n",
    "image_resized= cv2.resize(image, (img_height,img_width))\n",
    "image=np.expand_dims(image_resized,axis=0)\n",
    "print(image.shape)\n"
   ]
  },
  {
   "cell_type": "code",
   "execution_count": null,
   "metadata": {
    "id": "4wnde9wj9tH3"
   },
   "outputs": [],
   "source": [
    "pred=resnet_model.predict(image)\n",
    "print(pred)"
   ]
  },
  {
   "cell_type": "code",
   "execution_count": null,
   "metadata": {
    "id": "K4clZcRT9tMX"
   },
   "outputs": [],
   "source": [
    "output_class=class_names[np.argmax(pred)]\n",
    "print(\"The predicted class is\", output_class) # class-6"
   ]
  },
  {
   "cell_type": "code",
   "execution_count": null,
   "metadata": {
    "id": "CRtL8-Gfkb3w"
   },
   "outputs": [],
   "source": [
    "resnet_model.save('Resnet_18_Num_Plate')"
   ]
  },
  {
   "cell_type": "code",
   "execution_count": null,
   "metadata": {
    "id": "4EyKyPN3ouoE"
   },
   "outputs": [],
   "source": [
    "\n",
    "import pickle\n",
    "pickle.dumps(resnet_model)"
   ]
  },
  {
   "cell_type": "code",
   "execution_count": null,
   "metadata": {
    "id": "YKyLdR-VpXdl"
   },
   "outputs": [],
   "source": [
    "a=os.listdir('/content/drive/MyDrive/Number_Plate_Classification/data/train')"
   ]
  },
  {
   "cell_type": "code",
   "execution_count": null,
   "metadata": {
    "id": "NnO2hixOppQm"
   },
   "outputs": [],
   "source": [
    "print(a)"
   ]
  },
  {
   "cell_type": "code",
   "execution_count": null,
   "metadata": {
    "id": "EYZIsBnYpqkX"
   },
   "outputs": [],
   "source": [
    "import albumentations as A\n",
    "import cv2\n",
    "import os\n",
    "import numpy as np\n",
    "\n",
    "\n",
    "\n",
    "\n",
    "def Saving_files(root_path):\n",
    "    for folder in os.listdir(root_path):\n",
    "        sub_path=root_path+'/'+folder\n",
    "        # print(sub_path)\n",
    "        # os.makedirs(desti_path+'/'+folder)\n",
    "            \n",
    "        img=cv2.imread(sub_path)\n",
    "        image_resized= cv2.resize(img, (img_height,img_width))\n",
    "        image=np.expand_dims(image_resized,axis=0)\n",
    "        pred=resnet_model.predict(image)\n",
    "        output_class=class_names[np.argmax(pred)]\n",
    "        print(\"The predicted class is\", output_class)\n",
    "        if output_class=='class_0':\n",
    "          cv2.imwrite('/content/drive/MyDrive/Number_Plate_Classification/data/train/class_0'+'/'+folder,img)\n",
    "          print('stored at class_0 ')\n",
    "        \n",
    "        elif output_class=='class_1':\n",
    "          cv2.imwrite('/content/drive/MyDrive/Number_Plate_Classification/data/train/class_1'+'/'+folder,img)\n",
    "          print('stored at class_2 ')\n",
    "\n",
    "        elif output_class=='class_2':\n",
    "          cv2.imwrite('/content/drive/MyDrive/Number_Plate_Classification/data/train/class_2'+'/'+folder,img)\n",
    "          print('stored at class_2 ')\n",
    "\n",
    "        elif output_class=='class_3':\n",
    "          cv2.imwrite('/content/drive/MyDrive/Number_Plate_Classification/data/train/class_3'+'/'+folder,img)\n",
    "          print('stored at class_3 ')\n",
    "        \n",
    "        elif output_class=='class_4':\n",
    "          cv2.imwrite('/content/drive/MyDrive/Number_Plate_Classification/data/train/class_4'+'/'+folder,img)\n",
    "          print('stored at class_4 ')\n",
    "        elif output_class=='class_5':\n",
    "          cv2.imwrite('/content/drive/MyDrive/Number_Plate_Classification/data/train/class_5'+'/'+folder,img)\n",
    "          print('stored at class_5 ')\n",
    "        elif output_class=='class_6':\n",
    "          cv2.imwrite('/content/drive/MyDrive/Number_Plate_Classification/data/train/class_6'+'/'+folder,img)\n",
    "          print('stored at class_6 ')\n",
    "        elif output_class=='class_7':\n",
    "          cv2.imwrite('/content/drive/MyDrive/Number_Plate_Classification/data/train/class_7'+'/'+folder,img)\n",
    "          print('stored at class_7 ')\n",
    "\n",
    "        elif output_class=='class_8':\n",
    "          cv2.imwrite('/content/drive/MyDrive/Number_Plate_Classification/data/train/class_8'+'/'+folder,img)\n",
    "          print('stored at class_8 ')\n",
    "\n",
    "        elif output_class=='class_9':\n",
    "          cv2.imwrite('/content/drive/MyDrive/Number_Plate_Classification/data/train/class_9'+'/'+folder,img)\n",
    "          print('stored at class_9 ')\n",
    "\n",
    "        elif output_class=='class_A':\n",
    "          cv2.imwrite('/content/drive/MyDrive/Number_Plate_Classification/data/train/class_A'+'/'+folder,img)\n",
    "          print('stored at class_A ')\n",
    "        elif output_class=='class_B':\n",
    "          cv2.imwrite('/content/drive/MyDrive/Number_Plate_Classification/data/train/class_B'+'/'+folder,img)\n",
    "          print('stored at class_B ')\n",
    "        elif output_class=='class_C':\n",
    "          cv2.imwrite('/content/drive/MyDrive/Number_Plate_Classification/data/train/class_C'+'/'+folder,img)\n",
    "          print('stored at class_C ')\n",
    "\n",
    "        elif output_class=='class_D':\n",
    "          cv2.imwrite('/content/drive/MyDrive/Number_Plate_Classification/data/train/class_D'+'/'+folder,img)\n",
    "          print('stored at class_D ')\n",
    "        elif output_class=='class_E':\n",
    "          cv2.imwrite('/content/drive/MyDrive/Number_Plate_Classification/data/train/class_E'+'/'+folder,img)\n",
    "          print('stored at class_E ')\n",
    "        elif output_class=='class_F':\n",
    "          cv2.imwrite('/content/drive/MyDrive/Number_Plate_Classification/data/train/class_F'+'/'+folder,img)\n",
    "          print('stored at class_F ')\n",
    "        elif output_class=='class_G':\n",
    "          cv2.imwrite('/content/drive/MyDrive/Number_Plate_Classification/data/train/class_G'+'/'+folder,img)\n",
    "          print('stored at class_G ')\n",
    "        elif output_class=='class_H':\n",
    "          cv2.imwrite('/content/drive/MyDrive/Number_Plate_Classification/data/train/class_H'+'/'+folder,img)\n",
    "          print('stored at class_H ')\n",
    "        elif output_class=='class_I':\n",
    "          cv2.imwrite('/content/drive/MyDrive/Number_Plate_Classification/data/train/class_I'+'/'+folder,img)\n",
    "          print('stored at class_I ')\n",
    "        elif output_class=='class_J':\n",
    "          cv2.imwrite('/content/drive/MyDrive/Number_Plate_Classification/data/train/class_J'+'/'+folder,img)\n",
    "          print('stored at class_J ')\n",
    "        elif output_class=='class_K':\n",
    "          cv2.imwrite('/content/drive/MyDrive/Number_Plate_Classification/data/train/class_K'+'/'+folder,img)\n",
    "          print('stored at class_K ')\n",
    "        elif output_class=='class_L':\n",
    "          cv2.imwrite('/content/drive/MyDrive/Number_Plate_Classification/data/train/class_L'+'/'+folder,img)\n",
    "          print('stored at class_L ')\n",
    "        elif output_class=='class_M':\n",
    "          cv2.imwrite('/content/drive/MyDrive/Number_Plate_Classification/data/train/class_M'+'/'+folder,img)\n",
    "          print('stored at class_M ')\n",
    "        elif output_class=='class_N':\n",
    "          cv2.imwrite('/content/drive/MyDrive/Number_Plate_Classification/data/train/class_N'+'/'+folder,img)\n",
    "          print('stored at class_N ')\n",
    "        elif output_class=='class_O':\n",
    "          cv2.imwrite('/content/drive/MyDrive/Number_Plate_Classification/data/train/class_P'+'/'+folder,img)\n",
    "          print('stored at class_O ')\n",
    "\n",
    "        elif output_class=='class_Q':\n",
    "          cv2.imwrite('/content/drive/MyDrive/Number_Plate_Classification/data/train/class_Q'+'/'+folder,img)\n",
    "          print('stored at class_Q ')\n",
    "\n",
    "        elif output_class=='class_R':\n",
    "          cv2.imwrite('/content/drive/MyDrive/Number_Plate_Classification/data/train/class_R'+'/'+folder,img)\n",
    "          print('stored at class_R ')\n",
    "\n",
    "        elif output_class=='class_S':\n",
    "          cv2.imwrite('/content/drive/MyDrive/Number_Plate_Classification/data/train/class_S'+'/'+folder,img)\n",
    "          print('stored at class_S ')\n",
    "\n",
    "        elif output_class=='class_T':\n",
    "          cv2.imwrite('/content/drive/MyDrive/Number_Plate_Classification/data/train/class_T'+'/'+folder,img)\n",
    "          print('stored at class_T ')\n",
    "\n",
    "        elif output_class=='class_U':\n",
    "          cv2.imwrite('/content/drive/MyDrive/Number_Plate_Classification/data/train/class_U'+'/'+folder,img)\n",
    "          print('stored at class_U ')\n",
    "\n",
    "        elif output_class=='class_V':\n",
    "          cv2.imwrite('/content/drive/MyDrive/Number_Plate_Classification/data/train/class_V'+'/'+folder,img)\n",
    "          print('stored at class_V ')\n",
    "\n",
    "        elif output_class=='class_W':\n",
    "          cv2.imwrite('/content/drive/MyDrive/Number_Plate_Classification/data/train/class_W'+'/'+folder,img)\n",
    "          print('stored at class_W ')\n",
    "\n",
    "        elif output_class=='class_X':\n",
    "          cv2.imwrite('/content/drive/MyDrive/Number_Plate_Classification/data/train/class_X'+'/'+folder,img)\n",
    "          print('stored at class_X ')\n",
    "\n",
    "        elif output_class=='class_Y':\n",
    "          cv2.imwrite('/content/drive/MyDrive/Number_Plate_Classification/data/train/class_Y'+'/'+folder,img)\n",
    "          print('stored at class_Y ')\n",
    "\n",
    "        elif output_class=='class_Z':\n",
    "          cv2.imwrite('/content/drive/MyDrive/Number_Plate_Classification/data/train/class_Z'+'/'+folder,img)\n",
    "          print('stored at class_Z ')\n",
    "\n",
    "        \n",
    "\n",
    "\n",
    "\n",
    "            # cv2.imwrite(os.path.join(desti_path+'/'+folder,i),transformed_img)\n",
    "root_path='/content/drive/MyDrive/Number_Plate_Classification/data/naveen/naveen'\n",
    "Saving_files(root_path)\n"
   ]
  }
 ],
 "metadata": {
  "accelerator": "GPU",
  "colab": {
   "private_outputs": true,
   "provenance": []
  },
  "gpuClass": "standard",
  "kernelspec": {
   "display_name": "Python 3 (ipykernel)",
   "language": "python",
   "name": "python3"
  },
  "language_info": {
   "codemirror_mode": {
    "name": "ipython",
    "version": 3
   },
   "file_extension": ".py",
   "mimetype": "text/x-python",
   "name": "python",
   "nbconvert_exporter": "python",
   "pygments_lexer": "ipython3",
   "version": "3.10.6"
  }
 },
 "nbformat": 4,
 "nbformat_minor": 1
}
